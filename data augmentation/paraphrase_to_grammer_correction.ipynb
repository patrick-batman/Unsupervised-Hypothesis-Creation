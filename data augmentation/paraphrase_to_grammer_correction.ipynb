{
 "cells": [
  {
   "cell_type": "code",
   "execution_count": 1,
   "metadata": {},
   "outputs": [
    {
     "name": "stderr",
     "output_type": "stream",
     "text": [
      "/Users/raunakpandey/Documents/programming/projects/env/lib/python3.8/site-packages/tqdm/auto.py:21: TqdmWarning: IProgress not found. Please update jupyter and ipywidgets. See https://ipywidgets.readthedocs.io/en/stable/user_install.html\n",
      "  from .autonotebook import tqdm as notebook_tqdm\n"
     ]
    }
   ],
   "source": [
    "import torch\n",
    "from transformers import AutoTokenizer, AutoModelForSeq2SeqLM\n",
    "\n",
    "tokenizer = AutoTokenizer.from_pretrained(\"humarin/chatgpt_paraphraser_on_T5_base\")\n",
    "# device = torch.device(\"mps\" if torch.backends.mps.is_available() else \"cpu\") # This always results in MPS\n",
    "device = \"cpu\"\n",
    "\n",
    "model = AutoModelForSeq2SeqLM.from_pretrained(\"humarin/chatgpt_paraphraser_on_T5_base\").to(device)\n"
   ]
  },
  {
   "cell_type": "code",
   "execution_count": 2,
   "metadata": {},
   "outputs": [],
   "source": [
    "def paraphrase(\n",
    "    question,\n",
    "    num_beams=5,\n",
    "    num_beam_groups=5,\n",
    "    num_return_sequences=3,\n",
    "    repetition_penalty=10.0,\n",
    "    diversity_penalty=3.0,\n",
    "    no_repeat_ngram_size=2,\n",
    "    temperature=0.7,\n",
    "    max_length=128,\n",
    "):\n",
    "    input_ids = tokenizer(\n",
    "        f'paraphrase: {question}',\n",
    "        return_tensors=\"pt\", padding=\"longest\",\n",
    "        max_length=max_length,\n",
    "        truncation=True,\n",
    "    ).input_ids\n",
    "    \n",
    "    outputs = model.generate(\n",
    "        input_ids, temperature=temperature, repetition_penalty=repetition_penalty,\n",
    "        num_return_sequences=num_return_sequences, no_repeat_ngram_size=no_repeat_ngram_size,\n",
    "        num_beams=num_beams, num_beam_groups=num_beam_groups,\n",
    "        max_length=max_length, diversity_penalty=diversity_penalty\n",
    "    )\n",
    "\n",
    "    res = tokenizer.batch_decode(outputs, skip_special_tokens=True)\n",
    "\n",
    "    return res\n"
   ]
  },
  {
   "cell_type": "code",
   "execution_count": 3,
   "metadata": {},
   "outputs": [
    {
     "name": "stderr",
     "output_type": "stream",
     "text": [
      "/Users/raunakpandey/Documents/programming/projects/env/lib/python3.8/site-packages/transformers/generation/configuration_utils.py:362: UserWarning: `do_sample` is set to `False`. However, `temperature` is set to `0.7` -- this flag is only used in sample-based generation modes. You should set `do_sample=True` or unset `temperature`.\n",
      "  warnings.warn(\n"
     ]
    },
    {
     "data": {
      "text/plain": [
       "['The architect is not in charge of creating the blueprints for a new building.',\n",
       " 'A new building blueprints are not being prepared by an architect.',\n",
       " 'Architects are not in the process of creating blueprints for a new building.']"
      ]
     },
     "execution_count": 3,
     "metadata": {},
     "output_type": "execute_result"
    }
   ],
   "source": [
    "text = 'An architect is not drawing blueprints for a new building .'\n",
    "paraphrase(text)"
   ]
  },
  {
   "cell_type": "code",
   "execution_count": 4,
   "metadata": {},
   "outputs": [
    {
     "data": {
      "text/html": [
       "<div>\n",
       "<style scoped>\n",
       "    .dataframe tbody tr th:only-of-type {\n",
       "        vertical-align: middle;\n",
       "    }\n",
       "\n",
       "    .dataframe tbody tr th {\n",
       "        vertical-align: top;\n",
       "    }\n",
       "\n",
       "    .dataframe thead th {\n",
       "        text-align: right;\n",
       "    }\n",
       "</style>\n",
       "<table border=\"1\" class=\"dataframe\">\n",
       "  <thead>\n",
       "    <tr style=\"text-align: right;\">\n",
       "      <th></th>\n",
       "      <th>Unnamed: 0</th>\n",
       "      <th>premise</th>\n",
       "      <th>swap_sub_obj</th>\n",
       "      <th>negation</th>\n",
       "      <th>numbers_change</th>\n",
       "      <th>change_nouns1</th>\n",
       "      <th>change_nouns2</th>\n",
       "      <th>change_verbs</th>\n",
       "      <th>paraphrase_negations_0</th>\n",
       "      <th>paraphrase_negations_1</th>\n",
       "      <th>paraphrase_negations_2</th>\n",
       "      <th>paraphrase_negations_3</th>\n",
       "      <th>paraphrase_negations_4</th>\n",
       "    </tr>\n",
       "  </thead>\n",
       "  <tbody>\n",
       "    <tr>\n",
       "      <th>0</th>\n",
       "      <td>0</td>\n",
       "      <td>The cat is sleeping on the windowsill.</td>\n",
       "      <td>The windowsill is sleeping on the cat</td>\n",
       "      <td>The cat is not sleeping on the windowsill .</td>\n",
       "      <td>The cat is sleeping on the windowsill .</td>\n",
       "      <td>The dog is sleeping on the windowsill.</td>\n",
       "      <td>The cat is sleeping on the window-sill.</td>\n",
       "      <td>The cat is doze on the windowsill.</td>\n",
       "      <td>The cat is not slumbering on the windowsill.</td>\n",
       "      <td>But the cat is not sleeping on the windowsill.</td>\n",
       "      <td>The cat is no longer residing on the windowsill.</td>\n",
       "      <td>There is no chance that the cat is sleeping on...</td>\n",
       "      <td>It's not the cat sleeping on a window sill.</td>\n",
       "    </tr>\n",
       "    <tr>\n",
       "      <th>1</th>\n",
       "      <td>1</td>\n",
       "      <td>A group of friends is playing soccer in the park.</td>\n",
       "      <td>A park of friends is playing soccer in the group</td>\n",
       "      <td>A group of friends is not playing soccer in th...</td>\n",
       "      <td>A group of friends is playing soccer in the pa...</td>\n",
       "      <td>A grouping of friends is playing soccer in the...</td>\n",
       "      <td>A group of friends is playing football in the ...</td>\n",
       "      <td>A group of friends is understudy soccer in the...</td>\n",
       "      <td>In the park, a group of friends is not engagin...</td>\n",
       "      <td>A group of friends is not participating in soc...</td>\n",
       "      <td>Rather than playing soccer in the park, a grou...</td>\n",
       "      <td>There are a few friends who are not playing so...</td>\n",
       "      <td>The park is not the site of a soccer match amo...</td>\n",
       "    </tr>\n",
       "    <tr>\n",
       "      <th>2</th>\n",
       "      <td>2</td>\n",
       "      <td>The chef is preparing a delicious meal in the ...</td>\n",
       "      <td>The kitchen is preparing a delicious meal in t...</td>\n",
       "      <td>The chef is not preparing a delicious meal in ...</td>\n",
       "      <td>The chef is preparing a delicious meal in the ...</td>\n",
       "      <td>The cook is preparing a delicious meal in the ...</td>\n",
       "      <td>The chef is preparing a delicious breakfast in...</td>\n",
       "      <td>The chef is de-brief a delicious meal in the k...</td>\n",
       "      <td>The chef is not preparing a tasty meal in the ...</td>\n",
       "      <td>There is no indication that the chef is cookin...</td>\n",
       "      <td>A delicious meal is not being prepared by the ...</td>\n",
       "      <td>It appears that the chef is not cooking up a d...</td>\n",
       "      <td>The chef is not cooking a tasty meal in the ki...</td>\n",
       "    </tr>\n",
       "    <tr>\n",
       "      <th>3</th>\n",
       "      <td>3</td>\n",
       "      <td>A bright rainbow stretches across the sky afte...</td>\n",
       "      <td>A bright rain stretches across the sky after t...</td>\n",
       "      <td>A bright rainbow doesn't stretches across the ...</td>\n",
       "      <td>A bright rainbow stretches across the sky afte...</td>\n",
       "      <td>A bright anya stretches across the sky after t...</td>\n",
       "      <td>A bright rainbow stretches across the cloud af...</td>\n",
       "      <td>A bright rainbow bicep across the sky after th...</td>\n",
       "      <td>The sky lacks a clear rainbow after the rain.</td>\n",
       "      <td>After the rain, the sky lacks a bright rainbow.</td>\n",
       "      <td>A bright rainbow is not visible in the sky aft...</td>\n",
       "      <td>The rain does not lead to a bright rainbow in ...</td>\n",
       "      <td>Following the rainfall, a bright rainbow does ...</td>\n",
       "    </tr>\n",
       "    <tr>\n",
       "      <th>4</th>\n",
       "      <td>4</td>\n",
       "      <td>The students are listening attentively during ...</td>\n",
       "      <td>The lecture are listening attentively during t...</td>\n",
       "      <td>The students are not listening attentively dur...</td>\n",
       "      <td>The students are listening attentively during ...</td>\n",
       "      <td>The students are listening attentively during ...</td>\n",
       "      <td>The students are listening attentively during ...</td>\n",
       "      <td>The students are talk attentively during the l...</td>\n",
       "      <td>The students are not paying enough attention d...</td>\n",
       "      <td>During the lecture, the students are not payin...</td>\n",
       "      <td>Students are not paying enough attention durin...</td>\n",
       "      <td>The lecture is being overheard by the students.</td>\n",
       "      <td>Lecture: The students are not paying enough at...</td>\n",
       "    </tr>\n",
       "  </tbody>\n",
       "</table>\n",
       "</div>"
      ],
      "text/plain": [
       "   Unnamed: 0                                            premise  \\\n",
       "0           0             The cat is sleeping on the windowsill.   \n",
       "1           1  A group of friends is playing soccer in the park.   \n",
       "2           2  The chef is preparing a delicious meal in the ...   \n",
       "3           3  A bright rainbow stretches across the sky afte...   \n",
       "4           4  The students are listening attentively during ...   \n",
       "\n",
       "                                        swap_sub_obj  \\\n",
       "0              The windowsill is sleeping on the cat   \n",
       "1   A park of friends is playing soccer in the group   \n",
       "2  The kitchen is preparing a delicious meal in t...   \n",
       "3  A bright rain stretches across the sky after t...   \n",
       "4  The lecture are listening attentively during t...   \n",
       "\n",
       "                                            negation  \\\n",
       "0        The cat is not sleeping on the windowsill .   \n",
       "1  A group of friends is not playing soccer in th...   \n",
       "2  The chef is not preparing a delicious meal in ...   \n",
       "3  A bright rainbow doesn't stretches across the ...   \n",
       "4  The students are not listening attentively dur...   \n",
       "\n",
       "                                      numbers_change  \\\n",
       "0            The cat is sleeping on the windowsill .   \n",
       "1  A group of friends is playing soccer in the pa...   \n",
       "2  The chef is preparing a delicious meal in the ...   \n",
       "3  A bright rainbow stretches across the sky afte...   \n",
       "4  The students are listening attentively during ...   \n",
       "\n",
       "                                       change_nouns1  \\\n",
       "0             The dog is sleeping on the windowsill.   \n",
       "1  A grouping of friends is playing soccer in the...   \n",
       "2  The cook is preparing a delicious meal in the ...   \n",
       "3  A bright anya stretches across the sky after t...   \n",
       "4  The students are listening attentively during ...   \n",
       "\n",
       "                                       change_nouns2  \\\n",
       "0            The cat is sleeping on the window-sill.   \n",
       "1  A group of friends is playing football in the ...   \n",
       "2  The chef is preparing a delicious breakfast in...   \n",
       "3  A bright rainbow stretches across the cloud af...   \n",
       "4  The students are listening attentively during ...   \n",
       "\n",
       "                                        change_verbs  \\\n",
       "0                 The cat is doze on the windowsill.   \n",
       "1  A group of friends is understudy soccer in the...   \n",
       "2  The chef is de-brief a delicious meal in the k...   \n",
       "3  A bright rainbow bicep across the sky after th...   \n",
       "4  The students are talk attentively during the l...   \n",
       "\n",
       "                              paraphrase_negations_0  \\\n",
       "0       The cat is not slumbering on the windowsill.   \n",
       "1  In the park, a group of friends is not engagin...   \n",
       "2  The chef is not preparing a tasty meal in the ...   \n",
       "3      The sky lacks a clear rainbow after the rain.   \n",
       "4  The students are not paying enough attention d...   \n",
       "\n",
       "                              paraphrase_negations_1  \\\n",
       "0     But the cat is not sleeping on the windowsill.   \n",
       "1  A group of friends is not participating in soc...   \n",
       "2  There is no indication that the chef is cookin...   \n",
       "3    After the rain, the sky lacks a bright rainbow.   \n",
       "4  During the lecture, the students are not payin...   \n",
       "\n",
       "                              paraphrase_negations_2  \\\n",
       "0   The cat is no longer residing on the windowsill.   \n",
       "1  Rather than playing soccer in the park, a grou...   \n",
       "2  A delicious meal is not being prepared by the ...   \n",
       "3  A bright rainbow is not visible in the sky aft...   \n",
       "4  Students are not paying enough attention durin...   \n",
       "\n",
       "                              paraphrase_negations_3  \\\n",
       "0  There is no chance that the cat is sleeping on...   \n",
       "1  There are a few friends who are not playing so...   \n",
       "2  It appears that the chef is not cooking up a d...   \n",
       "3  The rain does not lead to a bright rainbow in ...   \n",
       "4    The lecture is being overheard by the students.   \n",
       "\n",
       "                              paraphrase_negations_4  \n",
       "0        It's not the cat sleeping on a window sill.  \n",
       "1  The park is not the site of a soccer match amo...  \n",
       "2  The chef is not cooking a tasty meal in the ki...  \n",
       "3  Following the rainfall, a bright rainbow does ...  \n",
       "4  Lecture: The students are not paying enough at...  "
      ]
     },
     "execution_count": 4,
     "metadata": {},
     "output_type": "execute_result"
    }
   ],
   "source": [
    "import pandas as pd\n",
    "df = pd.read_csv(\"/Users/raunakpandey/Documents/programming/projects/augmentation/augmented_data/negations_final.csv\")\n",
    "df.head()"
   ]
  },
  {
   "cell_type": "code",
   "execution_count": 5,
   "metadata": {},
   "outputs": [],
   "source": [
    "df.drop(['Unnamed: 0'] , axis=1, inplace=True)"
   ]
  },
  {
   "cell_type": "code",
   "execution_count": 6,
   "metadata": {},
   "outputs": [],
   "source": [
    "def apply_paraphrase(df, column):\n",
    "    import random\n",
    "    df_new = df.copy()\n",
    "    from tqdm.auto import tqdm\n",
    "    tqdm.pandas()\n",
    "    output = df_new[column].progress_apply(paraphrase)\n",
    "    df_new[column + \"_grammer\"] = output.apply(lambda x: random.choice(x))\n",
    "    return df_new"
   ]
  },
  {
   "cell_type": "code",
   "execution_count": 7,
   "metadata": {},
   "outputs": [
    {
     "name": "stdout",
     "output_type": "stream",
     "text": [
      "huggingface/tokenizers: The current process just got forked, after parallelism has already been used. Disabling parallelism to avoid deadlocks...\n",
      "To disable this warning, you can either:\n",
      "\t- Avoid using `tokenizers` before the fork if possible\n",
      "\t- Explicitly set the environment variable TOKENIZERS_PARALLELISM=(true | false)\n"
     ]
    },
    {
     "name": "stderr",
     "output_type": "stream",
     "text": [
      "  0%|          | 0/317 [00:00<?, ?it/s]"
     ]
    },
    {
     "name": "stderr",
     "output_type": "stream",
     "text": [
      "/Users/raunakpandey/Documents/programming/projects/env/lib/python3.8/site-packages/transformers/generation/configuration_utils.py:362: UserWarning: `do_sample` is set to `False`. However, `temperature` is set to `0.7` -- this flag is only used in sample-based generation modes. You should set `do_sample=True` or unset `temperature`.\n",
      "  warnings.warn(\n",
      "100%|██████████| 317/317 [08:32<00:00,  1.62s/it]\n"
     ]
    }
   ],
   "source": [
    "df_new = apply_paraphrase(df, \"change_verbs\")"
   ]
  },
  {
   "cell_type": "code",
   "execution_count": 8,
   "metadata": {},
   "outputs": [],
   "source": [
    "df['change_verbs'] = df_new['change_verbs_grammer']"
   ]
  },
  {
   "cell_type": "code",
   "execution_count": 9,
   "metadata": {},
   "outputs": [
    {
     "name": "stdout",
     "output_type": "stream",
     "text": [
      "<class 'pandas.core.frame.DataFrame'>\n",
      "RangeIndex: 317 entries, 0 to 316\n",
      "Data columns (total 12 columns):\n",
      " #   Column                  Non-Null Count  Dtype \n",
      "---  ------                  --------------  ----- \n",
      " 0   premise                 317 non-null    object\n",
      " 1   swap_sub_obj            317 non-null    object\n",
      " 2   negation                317 non-null    object\n",
      " 3   numbers_change          317 non-null    object\n",
      " 4   change_nouns1           317 non-null    object\n",
      " 5   change_nouns2           317 non-null    object\n",
      " 6   change_verbs            317 non-null    object\n",
      " 7   paraphrase_negations_0  317 non-null    object\n",
      " 8   paraphrase_negations_1  317 non-null    object\n",
      " 9   paraphrase_negations_2  317 non-null    object\n",
      " 10  paraphrase_negations_3  317 non-null    object\n",
      " 11  paraphrase_negations_4  317 non-null    object\n",
      "dtypes: object(12)\n",
      "memory usage: 29.8+ KB\n"
     ]
    }
   ],
   "source": [
    "df.info()"
   ]
  },
  {
   "cell_type": "code",
   "execution_count": 10,
   "metadata": {},
   "outputs": [],
   "source": [
    "df.to_csv(\"/Users/raunakpandey/Documents/programming/projects/augmentation/augmented_data/negations_final_grammerCorrection.csv\")"
   ]
  },
  {
   "cell_type": "code",
   "execution_count": null,
   "metadata": {},
   "outputs": [],
   "source": []
  }
 ],
 "metadata": {
  "kernelspec": {
   "display_name": "Python 3",
   "language": "python",
   "name": "python3"
  },
  "language_info": {
   "codemirror_mode": {
    "name": "ipython",
    "version": 3
   },
   "file_extension": ".py",
   "mimetype": "text/x-python",
   "name": "python",
   "nbconvert_exporter": "python",
   "pygments_lexer": "ipython3",
   "version": "3.8.17"
  },
  "orig_nbformat": 4
 },
 "nbformat": 4,
 "nbformat_minor": 2
}
