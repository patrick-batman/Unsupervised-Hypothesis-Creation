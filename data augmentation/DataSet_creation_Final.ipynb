{
  "cells": [
    {
      "cell_type": "markdown",
      "metadata": {
        "id": "lnOouoylkYNg"
      },
      "source": [
        "# Contradiction"
      ]
    },
    {
      "cell_type": "markdown",
      "metadata": {
        "id": "pSsrpcq2kafB"
      },
      "source": [
        "## Subject object change"
      ]
    },
    {
      "cell_type": "code",
      "execution_count": 1,
      "metadata": {
        "id": "vCVO6e1yZIkT"
      },
      "outputs": [],
      "source": [
        "import spacy\n",
        "\n",
        "# Load the spaCy model\n",
        "nlp = spacy.load(\"en_core_web_sm\")"
      ]
    },
    {
      "cell_type": "code",
      "execution_count": 2,
      "metadata": {},
      "outputs": [],
      "source": [
        "import pandas as pd\n",
        "df = pd.read_csv('/Users/raunakpandey/Documents/programming/projects/nlp/examples.csv')"
      ]
    },
    {
      "cell_type": "code",
      "execution_count": 3,
      "metadata": {},
      "outputs": [
        {
          "data": {
            "text/html": [
              "<div>\n",
              "<style scoped>\n",
              "    .dataframe tbody tr th:only-of-type {\n",
              "        vertical-align: middle;\n",
              "    }\n",
              "\n",
              "    .dataframe tbody tr th {\n",
              "        vertical-align: top;\n",
              "    }\n",
              "\n",
              "    .dataframe thead th {\n",
              "        text-align: right;\n",
              "    }\n",
              "</style>\n",
              "<table border=\"1\" class=\"dataframe\">\n",
              "  <thead>\n",
              "    <tr style=\"text-align: right;\">\n",
              "      <th></th>\n",
              "      <th>premise</th>\n",
              "      <th>label</th>\n",
              "    </tr>\n",
              "  </thead>\n",
              "  <tbody>\n",
              "    <tr>\n",
              "      <th>0</th>\n",
              "      <td>The cat is sleeping on the windowsill.</td>\n",
              "      <td>1</td>\n",
              "    </tr>\n",
              "    <tr>\n",
              "      <th>1</th>\n",
              "      <td>A group of friends is playing soccer in the park.</td>\n",
              "      <td>1</td>\n",
              "    </tr>\n",
              "    <tr>\n",
              "      <th>2</th>\n",
              "      <td>The chef is preparing a delicious meal in the ...</td>\n",
              "      <td>1</td>\n",
              "    </tr>\n",
              "    <tr>\n",
              "      <th>3</th>\n",
              "      <td>A bright rainbow stretches across the sky afte...</td>\n",
              "      <td>1</td>\n",
              "    </tr>\n",
              "    <tr>\n",
              "      <th>4</th>\n",
              "      <td>The students are listening attentively during ...</td>\n",
              "      <td>1</td>\n",
              "    </tr>\n",
              "  </tbody>\n",
              "</table>\n",
              "</div>"
            ],
            "text/plain": [
              "                                             premise  label\n",
              "0             The cat is sleeping on the windowsill.      1\n",
              "1  A group of friends is playing soccer in the park.      1\n",
              "2  The chef is preparing a delicious meal in the ...      1\n",
              "3  A bright rainbow stretches across the sky afte...      1\n",
              "4  The students are listening attentively during ...      1"
            ]
          },
          "execution_count": 3,
          "metadata": {},
          "output_type": "execute_result"
        }
      ],
      "source": [
        "df.head()"
      ]
    },
    {
      "cell_type": "code",
      "execution_count": 4,
      "metadata": {
        "id": "N7fjZMAwkpcV"
      },
      "outputs": [],
      "source": [
        "import string\n",
        "def exchange_words(sentence, word1, word2):\n",
        "\n",
        "    translating = str.maketrans('', '', string.punctuation)\n",
        "    sentence = sentence.translate(translating)\n",
        "    # Split the sentence into words\n",
        "    words = sentence.split()\n",
        "\n",
        "    # Locate the positions of the words to be exchanged\n",
        "    try:\n",
        "        index1 = words.index(word1)\n",
        "        index2 = words.index(word2)\n",
        "    # Code that may raise a ValueError\n",
        "    except ValueError as e:\n",
        "        return sentence\n",
        "    # Handle the ValueError, e.g., print an error message or take corrective action\n",
        "\n",
        "    \n",
        "\n",
        "    # Swap the words\n",
        "    words[index1], words[index2] = words[index2], words[index1]\n",
        "\n",
        "    # Reconstruct the sentence\n",
        "    exchanged_sentence = ' '.join(words)\n",
        "\n",
        "    return exchanged_sentence"
      ]
    },
    {
      "cell_type": "code",
      "execution_count": 5,
      "metadata": {
        "id": "bnqN8ydyk4nu"
      },
      "outputs": [],
      "source": [
        "def swap_subject_object(sentence):\n",
        "    # Process the input sentence with spaCy\n",
        "    doc = nlp(sentence)\n",
        "    # Initialize variables to store subject and object\n",
        "    subject = \"\"\n",
        "    obj = \"\"\n",
        "\n",
        "    # Iterate through the sentence\n",
        "    for token in doc:\n",
        "        if \"subj\" in token.dep_:\n",
        "            # Found a subject\n",
        "            subject = token.text\n",
        "        elif \"obj\" in token.dep_:\n",
        "            # Found an object\n",
        "            obj = token.text\n",
        "\n",
        "    if not subject or not obj:\n",
        "        return sentence\n",
        "    # print(subject)\n",
        "    # print(obj)\n",
        "    # Replace subject with object and vice versa\n",
        "    swapped_sentence = exchange_words(sentence,obj,subject)\n",
        "    return swapped_sentence"
      ]
    },
    {
      "cell_type": "code",
      "execution_count": 6,
      "metadata": {
        "id": "GpMLHTnNk6Dp"
      },
      "outputs": [
        {
          "name": "stdout",
          "output_type": "stream",
          "text": [
            "Original Sentence: Look! The boy slapped the girl.\n",
            "Swapped Sentence: Look The girl slapped the boy\n"
          ]
        }
      ],
      "source": [
        "# Example sentence\n",
        "original_sentence = \"Look! The boy slapped the girl.\"\n",
        "\n",
        "# Swap subject and object\n",
        "swapped_sentence = swap_subject_object(original_sentence)\n",
        "\n",
        "print(\"Original Sentence:\", original_sentence)\n",
        "print(\"Swapped Sentence:\", swapped_sentence)"
      ]
    },
    {
      "cell_type": "code",
      "execution_count": 7,
      "metadata": {},
      "outputs": [],
      "source": [
        "df['swap_sub_obj'] = df['premise'].apply(swap_subject_object)"
      ]
    },
    {
      "cell_type": "code",
      "execution_count": 8,
      "metadata": {},
      "outputs": [
        {
          "data": {
            "text/html": [
              "<div>\n",
              "<style scoped>\n",
              "    .dataframe tbody tr th:only-of-type {\n",
              "        vertical-align: middle;\n",
              "    }\n",
              "\n",
              "    .dataframe tbody tr th {\n",
              "        vertical-align: top;\n",
              "    }\n",
              "\n",
              "    .dataframe thead th {\n",
              "        text-align: right;\n",
              "    }\n",
              "</style>\n",
              "<table border=\"1\" class=\"dataframe\">\n",
              "  <thead>\n",
              "    <tr style=\"text-align: right;\">\n",
              "      <th></th>\n",
              "      <th>premise</th>\n",
              "      <th>label</th>\n",
              "      <th>swap_sub_obj</th>\n",
              "    </tr>\n",
              "  </thead>\n",
              "  <tbody>\n",
              "    <tr>\n",
              "      <th>0</th>\n",
              "      <td>The cat is sleeping on the windowsill.</td>\n",
              "      <td>1</td>\n",
              "      <td>The windowsill is sleeping on the cat</td>\n",
              "    </tr>\n",
              "    <tr>\n",
              "      <th>1</th>\n",
              "      <td>A group of friends is playing soccer in the park.</td>\n",
              "      <td>1</td>\n",
              "      <td>A park of friends is playing soccer in the group</td>\n",
              "    </tr>\n",
              "    <tr>\n",
              "      <th>2</th>\n",
              "      <td>The chef is preparing a delicious meal in the ...</td>\n",
              "      <td>1</td>\n",
              "      <td>The kitchen is preparing a delicious meal in t...</td>\n",
              "    </tr>\n",
              "    <tr>\n",
              "      <th>3</th>\n",
              "      <td>A bright rainbow stretches across the sky afte...</td>\n",
              "      <td>1</td>\n",
              "      <td>A bright rain stretches across the sky after t...</td>\n",
              "    </tr>\n",
              "    <tr>\n",
              "      <th>4</th>\n",
              "      <td>The students are listening attentively during ...</td>\n",
              "      <td>1</td>\n",
              "      <td>The lecture are listening attentively during t...</td>\n",
              "    </tr>\n",
              "  </tbody>\n",
              "</table>\n",
              "</div>"
            ],
            "text/plain": [
              "                                             premise  label  \\\n",
              "0             The cat is sleeping on the windowsill.      1   \n",
              "1  A group of friends is playing soccer in the park.      1   \n",
              "2  The chef is preparing a delicious meal in the ...      1   \n",
              "3  A bright rainbow stretches across the sky afte...      1   \n",
              "4  The students are listening attentively during ...      1   \n",
              "\n",
              "                                        swap_sub_obj  \n",
              "0              The windowsill is sleeping on the cat  \n",
              "1   A park of friends is playing soccer in the group  \n",
              "2  The kitchen is preparing a delicious meal in t...  \n",
              "3  A bright rain stretches across the sky after t...  \n",
              "4  The lecture are listening attentively during t...  "
            ]
          },
          "execution_count": 8,
          "metadata": {},
          "output_type": "execute_result"
        }
      ],
      "source": [
        "df.head()"
      ]
    },
    {
      "cell_type": "markdown",
      "metadata": {
        "id": "NFemwE99lAbu"
      },
      "source": [
        "## Negation"
      ]
    },
    {
      "cell_type": "code",
      "execution_count": 11,
      "metadata": {
        "id": "HkbJfHEXlIsV"
      },
      "outputs": [
        {
          "name": "stdout",
          "output_type": "stream",
          "text": [
            "Original Sentence: She loves to dance.\n",
            "Contradictory Hypothesis: She doesn't loves to dance .\n"
          ]
        }
      ],
      "source": [
        "import spacy\n",
        "import random\n",
        "\n",
        "# Load spaCy model\n",
        "nlp = spacy.load(\"en_core_web_sm\")\n",
        "\n",
        "def introduce_negations_with_pos(sentence):\n",
        "    # Process the sentence with spaCy\n",
        "    doc = nlp(sentence)\n",
        "\n",
        "    # Identify verbs and their positions\n",
        "    verbs = [(token.text, token.i) for token in doc if token.pos_ == \"VERB\"]\n",
        "\n",
        "    if not verbs:\n",
        "        return \"No verbs found to negate.\"\n",
        "\n",
        "    # Select a random verb to negate\n",
        "    selected_verb, verb_position = random.choice(verbs)\n",
        "\n",
        "    # Negation words for verbs\n",
        "    verb_negations = {\n",
        "        \"VBZ\": \"doesn't\",\n",
        "        \"VBP\": \"don't\",\n",
        "        \"VB\": \"don't\",\n",
        "        \"VBD\": \"didn't\",\n",
        "    }\n",
        "\n",
        "    # Get the appropriate negation word for the verb tense\n",
        "    negation_word = verb_negations.get(doc[verb_position].tag_, \"not\")\n",
        "\n",
        "    # Introduce negation for the selected verb\n",
        "    negated_sentence = \" \".join(\n",
        "        [token.text if token.i != verb_position else f\"{negation_word} {token.text}\" for token in doc]\n",
        "    )\n",
        "\n",
        "    return negated_sentence\n",
        "\n",
        "# Original sentence\n",
        "original_sentence = \"She loves to dance.\"\n",
        "\n",
        "# Introduce negations for verbs to create a contradictory hypothesis\n",
        "contradictory_hypothesis = introduce_negations_with_pos(original_sentence)\n",
        "\n",
        "print(\"Original Sentence:\", original_sentence)\n",
        "print(\"Contradictory Hypothesis:\", contradictory_hypothesis)\n"
      ]
    },
    {
      "cell_type": "code",
      "execution_count": 12,
      "metadata": {},
      "outputs": [],
      "source": [
        "df['negation'] = df['premise'].apply(introduce_negations_with_pos)"
      ]
    },
    {
      "cell_type": "code",
      "execution_count": 13,
      "metadata": {},
      "outputs": [
        {
          "data": {
            "text/html": [
              "<div>\n",
              "<style scoped>\n",
              "    .dataframe tbody tr th:only-of-type {\n",
              "        vertical-align: middle;\n",
              "    }\n",
              "\n",
              "    .dataframe tbody tr th {\n",
              "        vertical-align: top;\n",
              "    }\n",
              "\n",
              "    .dataframe thead th {\n",
              "        text-align: right;\n",
              "    }\n",
              "</style>\n",
              "<table border=\"1\" class=\"dataframe\">\n",
              "  <thead>\n",
              "    <tr style=\"text-align: right;\">\n",
              "      <th></th>\n",
              "      <th>premise</th>\n",
              "      <th>label</th>\n",
              "      <th>swap_sub_obj</th>\n",
              "      <th>negation</th>\n",
              "    </tr>\n",
              "  </thead>\n",
              "  <tbody>\n",
              "    <tr>\n",
              "      <th>0</th>\n",
              "      <td>The cat is sleeping on the windowsill.</td>\n",
              "      <td>1</td>\n",
              "      <td>The windowsill is sleeping on the cat</td>\n",
              "      <td>The cat is not sleeping on the windowsill .</td>\n",
              "    </tr>\n",
              "    <tr>\n",
              "      <th>1</th>\n",
              "      <td>A group of friends is playing soccer in the park.</td>\n",
              "      <td>1</td>\n",
              "      <td>A park of friends is playing soccer in the group</td>\n",
              "      <td>A group of friends is not playing soccer in th...</td>\n",
              "    </tr>\n",
              "    <tr>\n",
              "      <th>2</th>\n",
              "      <td>The chef is preparing a delicious meal in the ...</td>\n",
              "      <td>1</td>\n",
              "      <td>The kitchen is preparing a delicious meal in t...</td>\n",
              "      <td>The chef is not preparing a delicious meal in ...</td>\n",
              "    </tr>\n",
              "    <tr>\n",
              "      <th>3</th>\n",
              "      <td>A bright rainbow stretches across the sky afte...</td>\n",
              "      <td>1</td>\n",
              "      <td>A bright rain stretches across the sky after t...</td>\n",
              "      <td>A bright rainbow doesn't stretches across the ...</td>\n",
              "    </tr>\n",
              "    <tr>\n",
              "      <th>4</th>\n",
              "      <td>The students are listening attentively during ...</td>\n",
              "      <td>1</td>\n",
              "      <td>The lecture are listening attentively during t...</td>\n",
              "      <td>The students are not listening attentively dur...</td>\n",
              "    </tr>\n",
              "  </tbody>\n",
              "</table>\n",
              "</div>"
            ],
            "text/plain": [
              "                                             premise  label  \\\n",
              "0             The cat is sleeping on the windowsill.      1   \n",
              "1  A group of friends is playing soccer in the park.      1   \n",
              "2  The chef is preparing a delicious meal in the ...      1   \n",
              "3  A bright rainbow stretches across the sky afte...      1   \n",
              "4  The students are listening attentively during ...      1   \n",
              "\n",
              "                                        swap_sub_obj  \\\n",
              "0              The windowsill is sleeping on the cat   \n",
              "1   A park of friends is playing soccer in the group   \n",
              "2  The kitchen is preparing a delicious meal in t...   \n",
              "3  A bright rain stretches across the sky after t...   \n",
              "4  The lecture are listening attentively during t...   \n",
              "\n",
              "                                            negation  \n",
              "0        The cat is not sleeping on the windowsill .  \n",
              "1  A group of friends is not playing soccer in th...  \n",
              "2  The chef is not preparing a delicious meal in ...  \n",
              "3  A bright rainbow doesn't stretches across the ...  \n",
              "4  The students are not listening attentively dur...  "
            ]
          },
          "execution_count": 13,
          "metadata": {},
          "output_type": "execute_result"
        }
      ],
      "source": [
        "df.head()"
      ]
    },
    {
      "cell_type": "markdown",
      "metadata": {
        "id": "jNP2hPkhlTjd"
      },
      "source": [
        "## Numbers Change"
      ]
    },
    {
      "cell_type": "code",
      "execution_count": 14,
      "metadata": {
        "id": "YzvOLhe5lVZ5"
      },
      "outputs": [
        {
          "name": "stdout",
          "output_type": "stream",
          "text": [
            "Original Sentence: She has two cats and three dogs.\n",
            "Modified Sentence: She has six cats and six dogs .\n"
          ]
        }
      ],
      "source": [
        "import spacy\n",
        "import random\n",
        "\n",
        "# Load spaCy model\n",
        "nlp = spacy.load(\"en_core_web_sm\")\n",
        "\n",
        "# Contradictory numbers to replace with\n",
        "contradictory_numbers = [\"two\", \"four\", \"six\", \"eight\", \"ten\"]\n",
        "\n",
        "def replace_numbers_with_contrary(sentence):\n",
        "    # Process the sentence with spaCy\n",
        "    doc = nlp(sentence)\n",
        "\n",
        "    # Replace numbers (nummod) with contradictory numbers\n",
        "    modified_tokens = []\n",
        "    for token in doc:\n",
        "        if token.dep_ == \"nummod\":\n",
        "            contrary_number = random.choice(contradictory_numbers)\n",
        "            modified_tokens.append(contrary_number)\n",
        "        else:\n",
        "            modified_tokens.append(token.text)\n",
        "\n",
        "    modified_sentence = \" \".join(modified_tokens)\n",
        "    return modified_sentence\n",
        "\n",
        "# Example sentence\n",
        "original_sentence = \"She has two cats and three dogs.\"\n",
        "\n",
        "# Replace numbers with contradictory numbers\n",
        "modified_sentence = replace_numbers_with_contrary(original_sentence)\n",
        "\n",
        "print(\"Original Sentence:\", original_sentence)\n",
        "print(\"Modified Sentence:\", modified_sentence)\n"
      ]
    },
    {
      "cell_type": "code",
      "execution_count": 15,
      "metadata": {},
      "outputs": [],
      "source": [
        "df['numbers_change'] = df['premise'].apply(replace_numbers_with_contrary)"
      ]
    },
    {
      "cell_type": "code",
      "execution_count": 16,
      "metadata": {},
      "outputs": [
        {
          "data": {
            "text/html": [
              "<div>\n",
              "<style scoped>\n",
              "    .dataframe tbody tr th:only-of-type {\n",
              "        vertical-align: middle;\n",
              "    }\n",
              "\n",
              "    .dataframe tbody tr th {\n",
              "        vertical-align: top;\n",
              "    }\n",
              "\n",
              "    .dataframe thead th {\n",
              "        text-align: right;\n",
              "    }\n",
              "</style>\n",
              "<table border=\"1\" class=\"dataframe\">\n",
              "  <thead>\n",
              "    <tr style=\"text-align: right;\">\n",
              "      <th></th>\n",
              "      <th>premise</th>\n",
              "      <th>label</th>\n",
              "      <th>swap_sub_obj</th>\n",
              "      <th>negation</th>\n",
              "      <th>numbers_change</th>\n",
              "    </tr>\n",
              "  </thead>\n",
              "  <tbody>\n",
              "    <tr>\n",
              "      <th>0</th>\n",
              "      <td>The cat is sleeping on the windowsill.</td>\n",
              "      <td>1</td>\n",
              "      <td>The windowsill is sleeping on the cat</td>\n",
              "      <td>The cat is not sleeping on the windowsill .</td>\n",
              "      <td>The cat is sleeping on the windowsill .</td>\n",
              "    </tr>\n",
              "    <tr>\n",
              "      <th>1</th>\n",
              "      <td>A group of friends is playing soccer in the park.</td>\n",
              "      <td>1</td>\n",
              "      <td>A park of friends is playing soccer in the group</td>\n",
              "      <td>A group of friends is not playing soccer in th...</td>\n",
              "      <td>A group of friends is playing soccer in the pa...</td>\n",
              "    </tr>\n",
              "    <tr>\n",
              "      <th>2</th>\n",
              "      <td>The chef is preparing a delicious meal in the ...</td>\n",
              "      <td>1</td>\n",
              "      <td>The kitchen is preparing a delicious meal in t...</td>\n",
              "      <td>The chef is not preparing a delicious meal in ...</td>\n",
              "      <td>The chef is preparing a delicious meal in the ...</td>\n",
              "    </tr>\n",
              "    <tr>\n",
              "      <th>3</th>\n",
              "      <td>A bright rainbow stretches across the sky afte...</td>\n",
              "      <td>1</td>\n",
              "      <td>A bright rain stretches across the sky after t...</td>\n",
              "      <td>A bright rainbow doesn't stretches across the ...</td>\n",
              "      <td>A bright rainbow stretches across the sky afte...</td>\n",
              "    </tr>\n",
              "    <tr>\n",
              "      <th>4</th>\n",
              "      <td>The students are listening attentively during ...</td>\n",
              "      <td>1</td>\n",
              "      <td>The lecture are listening attentively during t...</td>\n",
              "      <td>The students are not listening attentively dur...</td>\n",
              "      <td>The students are listening attentively during ...</td>\n",
              "    </tr>\n",
              "  </tbody>\n",
              "</table>\n",
              "</div>"
            ],
            "text/plain": [
              "                                             premise  label  \\\n",
              "0             The cat is sleeping on the windowsill.      1   \n",
              "1  A group of friends is playing soccer in the park.      1   \n",
              "2  The chef is preparing a delicious meal in the ...      1   \n",
              "3  A bright rainbow stretches across the sky afte...      1   \n",
              "4  The students are listening attentively during ...      1   \n",
              "\n",
              "                                        swap_sub_obj  \\\n",
              "0              The windowsill is sleeping on the cat   \n",
              "1   A park of friends is playing soccer in the group   \n",
              "2  The kitchen is preparing a delicious meal in t...   \n",
              "3  A bright rain stretches across the sky after t...   \n",
              "4  The lecture are listening attentively during t...   \n",
              "\n",
              "                                            negation  \\\n",
              "0        The cat is not sleeping on the windowsill .   \n",
              "1  A group of friends is not playing soccer in th...   \n",
              "2  The chef is not preparing a delicious meal in ...   \n",
              "3  A bright rainbow doesn't stretches across the ...   \n",
              "4  The students are not listening attentively dur...   \n",
              "\n",
              "                                      numbers_change  \n",
              "0            The cat is sleeping on the windowsill .  \n",
              "1  A group of friends is playing soccer in the pa...  \n",
              "2  The chef is preparing a delicious meal in the ...  \n",
              "3  A bright rainbow stretches across the sky afte...  \n",
              "4  The students are listening attentively during ...  "
            ]
          },
          "execution_count": 16,
          "metadata": {},
          "output_type": "execute_result"
        }
      ],
      "source": [
        "df.head()"
      ]
    },
    {
      "cell_type": "code",
      "execution_count": 17,
      "metadata": {},
      "outputs": [],
      "source": [
        "df.to_csv('/Users/raunakpandey/Documents/programming/projects/augmentation/Augmentations.csv') "
      ]
    }
  ],
  "metadata": {
    "colab": {
      "provenance": []
    },
    "kernelspec": {
      "display_name": "Python 3",
      "name": "python3"
    },
    "language_info": {
      "codemirror_mode": {
        "name": "ipython",
        "version": 3
      },
      "file_extension": ".py",
      "mimetype": "text/x-python",
      "name": "python",
      "nbconvert_exporter": "python",
      "pygments_lexer": "ipython3",
      "version": "3.8.17"
    }
  },
  "nbformat": 4,
  "nbformat_minor": 0
}
