{
 "cells": [
  {
   "cell_type": "code",
   "execution_count": 1,
   "metadata": {},
   "outputs": [],
   "source": [
    "from gensim.test.utils import datapath\n",
    "from gensim.models import KeyedVectors\n",
    "wv_from_bin = KeyedVectors.load_word2vec_format(datapath(\"/Users/raunakpandey/Downloads/word2vec/model.bin\"), binary=True)"
   ]
  },
  {
   "cell_type": "code",
   "execution_count": 2,
   "metadata": {},
   "outputs": [],
   "source": [
    "word2vec_model = wv_from_bin"
   ]
  },
  {
   "cell_type": "code",
   "execution_count": 3,
   "metadata": {},
   "outputs": [],
   "source": [
    "import numpy as np\n",
    "import spacy\n",
    "# Load spaCy model for part-of-speech tagging\n",
    "nlp = spacy.load(\"en_core_web_sm\")"
   ]
  },
  {
   "cell_type": "code",
   "execution_count": 4,
   "metadata": {},
   "outputs": [],
   "source": [
    "import pandas as pd\n",
    "df = pd.read_csv(\"/Users/raunakpandey/Documents/programming/projects/augmentation/Augmentations.csv\")"
   ]
  },
  {
   "cell_type": "code",
   "execution_count": 5,
   "metadata": {},
   "outputs": [
    {
     "name": "stdout",
     "output_type": "stream",
     "text": [
      "<class 'pandas.core.frame.DataFrame'>\n",
      "RangeIndex: 317 entries, 0 to 316\n",
      "Data columns (total 6 columns):\n",
      " #   Column          Non-Null Count  Dtype \n",
      "---  ------          --------------  ----- \n",
      " 0   Unnamed: 0      317 non-null    int64 \n",
      " 1   premise         317 non-null    object\n",
      " 2   label           317 non-null    int64 \n",
      " 3   swap_sub_obj    317 non-null    object\n",
      " 4   negation        317 non-null    object\n",
      " 5   numbers_change  317 non-null    object\n",
      "dtypes: int64(2), object(4)\n",
      "memory usage: 15.0+ KB\n"
     ]
    }
   ],
   "source": [
    "df.info()"
   ]
  },
  {
   "cell_type": "markdown",
   "metadata": {},
   "source": [
    "## noun"
   ]
  },
  {
   "cell_type": "code",
   "execution_count": 6,
   "metadata": {},
   "outputs": [],
   "source": [
    "\n",
    "def find_most_different_noun(word):\n",
    "    try:\n",
    "        # Get the Word2Vec embedding for the given word\n",
    "        word_embedding = word2vec_model[word+'_NOUN']\n",
    "        # print(word_embedding)\n",
    "        # Find the most contextually different verb\n",
    "        most_different_noun = None\n",
    "        max_similarity = float(0)\n",
    "\n",
    "        for noun in word2vec_model.index_to_key:\n",
    "            if noun.endswith(\"_NOUN\"):  # Consider only noun\n",
    "                # print(noun)\n",
    "                noun_embedding = word2vec_model[noun]\n",
    "                similarity = word2vec_model.cosine_similarities(word_embedding, [noun_embedding])[0]\n",
    "                # print(similarity)\n",
    "                \n",
    "                if similarity > max_similarity and similarity < 0.9:\n",
    "                    most_different_noun = noun\n",
    "                    max_similarity = similarity\n",
    "\n",
    "        return most_different_noun.split(\"_\")[0]\n",
    "    except KeyError:\n",
    "        return None"
   ]
  },
  {
   "cell_type": "code",
   "execution_count": 7,
   "metadata": {},
   "outputs": [
    {
     "name": "stdout",
     "output_type": "stream",
     "text": [
      "cerise\n"
     ]
    }
   ],
   "source": [
    "print(find_most_different_noun(\"pink\"))"
   ]
  },
  {
   "cell_type": "code",
   "execution_count": 8,
   "metadata": {},
   "outputs": [],
   "source": [
    "from sklearn.feature_extraction.text import TfidfVectorizer\n",
    "from sklearn.metrics.pairwise import cosine_similarity\n",
    "\n",
    "def choose_most_dissimilar_sentence(modified_sentence, sentence):\n",
    "    # Create TF-IDF vectors for all sentences\n",
    "    vectorizer = TfidfVectorizer()\n",
    "    tfidf_matrix = vectorizer.fit_transform(modified_sentence+[sentence])\n",
    "\n",
    "    # Calculate cosine similarity between the given sentence and all sentences in the list\n",
    "    cosine_similarities = cosine_similarity(tfidf_matrix[-1], tfidf_matrix[:-1])\n",
    "\n",
    "    # Find the sentence with the lowest cosine similarity (most dissimilar)\n",
    "    most_dissimilar_index = cosine_similarities.argmin()\n",
    "\n",
    "    # Randomly choose one of the most dissimilar sentences\n",
    "    random_dissimilar_sentence = modified_sentence[most_dissimilar_index]\n",
    "\n",
    "    return random_dissimilar_sentence\n"
   ]
  },
  {
   "cell_type": "code",
   "execution_count": 9,
   "metadata": {},
   "outputs": [],
   "source": [
    "def choose_first_two(modified_sentence, sentence):\n",
    "    ret1 = sentence\n",
    "    ret2 = sentence\n",
    "    for i in modified_sentence:\n",
    "        if i != sentence:\n",
    "            ret1 = i\n",
    "            break\n",
    "    for i in modified_sentence:\n",
    "        if i != sentence and i != ret1:\n",
    "            ret2 = i\n",
    "            break\n",
    "    return ret1,ret2"
   ]
  },
  {
   "cell_type": "code",
   "execution_count": 10,
   "metadata": {},
   "outputs": [],
   "source": [
    "def choose_sent(modified_sentence, sentence):\n",
    "    ret_sent = modified_sentence[0][0]\n",
    "    similarity = modified_sentence[0][1]\n",
    "    for sent, sim in modified_sentence:\n",
    "        if sent != sentence and sim < similarity:\n",
    "            ret_sent = sent\n",
    "            similarity = sim\n",
    "            break\n",
    "    return ret_sent"
   ]
  },
  {
   "cell_type": "code",
   "execution_count": 11,
   "metadata": {},
   "outputs": [],
   "source": [
    "def replace_noun_with_most_different(sentence):\n",
    "    from tqdm.auto import tqdm\n",
    "    tqdm.pandas()\n",
    "    \n",
    "    # Process the sentence with spaCy\n",
    "    doc = nlp(sentence)\n",
    "\n",
    "    # Find a verb in the sentence\n",
    "    target_noun = []\n",
    "    for token in doc:\n",
    "        if token.pos_ == \"PROPN\" or token.pos_ == \"NOUN\":\n",
    "            target_noun.append(token.text)\n",
    "    # print(target_noun)\n",
    "    if target_noun is None:\n",
    "        return sentence\n",
    "\n",
    "    # Find the contextually most different noun\n",
    "    modified_sentence = []\n",
    "    for i in range(len(target_noun)):\n",
    "        most_different_noun = find_most_different_noun(target_noun[i])\n",
    "        # print(most_different_noun)\n",
    "        if most_different_noun is None:\n",
    "            continue\n",
    "        new_sentence = sentence.replace(target_noun[i], most_different_noun)\n",
    "        modified_sentence.append(new_sentence)\n",
    "    # print(sentence)\n",
    "    # print(choose_first_two(modified_sentence,sentence))\n",
    "    # print(\"--------------------\")\n",
    "    return choose_first_two(modified_sentence,sentence)"
   ]
  },
  {
   "cell_type": "code",
   "execution_count": 12,
   "metadata": {},
   "outputs": [
    {
     "name": "stderr",
     "output_type": "stream",
     "text": [
      "/Users/raunakpandey/Documents/programming/projects/env/lib/python3.8/site-packages/tqdm/auto.py:21: TqdmWarning: IProgress not found. Please update jupyter and ipywidgets. See https://ipywidgets.readthedocs.io/en/stable/user_install.html\n",
      "  from .autonotebook import tqdm as notebook_tqdm\n"
     ]
    },
    {
     "name": "stdout",
     "output_type": "stream",
     "text": [
      "Original Sentence: A barista is making a cappuccino at the coffee shop.\n",
      "Modified Sentence: ('A barista is making a grappa at the coffee shop.', 'A barista is making a cappuccino at the tea shop.')\n"
     ]
    }
   ],
   "source": [
    "# Example sentence\n",
    "original_sentence = \"A barista is making a cappuccino at the coffee shop.\"\n",
    "\n",
    "# Replace the verb with the contextually most different verb\n",
    "modified_sentence = replace_noun_with_most_different(original_sentence)\n",
    "\n",
    "print(\"Original Sentence:\", original_sentence)\n",
    "print(\"Modified Sentence:\", modified_sentence)"
   ]
  },
  {
   "cell_type": "code",
   "execution_count": 13,
   "metadata": {},
   "outputs": [
    {
     "name": "stdout",
     "output_type": "stream",
     "text": [
      "Original Sentence: A lifeguard is watching over swimmers at the pool.\n",
      "Modified Sentence: ('A lifejacket is watching over swimmers at the pool.', 'A lifeguard is watching over swimmers at the swimming::pool.')\n"
     ]
    }
   ],
   "source": [
    "# Example sentence\n",
    "original_sentence = \"A lifeguard is watching over swimmers at the pool.\"\n",
    "\n",
    "# Replace the verb with the contextually most different verb\n",
    "modified_sentence = replace_noun_with_most_different(original_sentence)\n",
    "\n",
    "print(\"Original Sentence:\", original_sentence)\n",
    "print(\"Modified Sentence:\", modified_sentence)"
   ]
  },
  {
   "cell_type": "code",
   "execution_count": 14,
   "metadata": {},
   "outputs": [],
   "source": [
    "def test(df):\n",
    "    from tqdm.auto import tqdm\n",
    "    tqdm.pandas()\n",
    "    outputs = df['premise'].progress_apply(replace_noun_with_most_different)\n",
    "    df['change_nouns1'] = outputs.apply(lambda x: x[0])\n",
    "    df['change_nouns2'] = outputs.apply(lambda x: x[1])\n",
    "    return df"
   ]
  },
  {
   "cell_type": "code",
   "execution_count": 15,
   "metadata": {},
   "outputs": [
    {
     "name": "stderr",
     "output_type": "stream",
     "text": [
      "  0%|          | 0/317 [00:00<?, ?it/s]"
     ]
    },
    {
     "name": "stderr",
     "output_type": "stream",
     "text": [
      "100%|██████████| 317/317 [07:46<00:00,  1.47s/it]\n"
     ]
    }
   ],
   "source": [
    "df = test(df)"
   ]
  },
  {
   "cell_type": "code",
   "execution_count": 16,
   "metadata": {},
   "outputs": [
    {
     "data": {
      "text/html": [
       "<div>\n",
       "<style scoped>\n",
       "    .dataframe tbody tr th:only-of-type {\n",
       "        vertical-align: middle;\n",
       "    }\n",
       "\n",
       "    .dataframe tbody tr th {\n",
       "        vertical-align: top;\n",
       "    }\n",
       "\n",
       "    .dataframe thead th {\n",
       "        text-align: right;\n",
       "    }\n",
       "</style>\n",
       "<table border=\"1\" class=\"dataframe\">\n",
       "  <thead>\n",
       "    <tr style=\"text-align: right;\">\n",
       "      <th></th>\n",
       "      <th>Unnamed: 0</th>\n",
       "      <th>premise</th>\n",
       "      <th>label</th>\n",
       "      <th>swap_sub_obj</th>\n",
       "      <th>negation</th>\n",
       "      <th>numbers_change</th>\n",
       "      <th>change_nouns1</th>\n",
       "      <th>change_nouns2</th>\n",
       "    </tr>\n",
       "  </thead>\n",
       "  <tbody>\n",
       "    <tr>\n",
       "      <th>0</th>\n",
       "      <td>0</td>\n",
       "      <td>The cat is sleeping on the windowsill.</td>\n",
       "      <td>1</td>\n",
       "      <td>The windowsill is sleeping on the cat</td>\n",
       "      <td>The cat is not sleeping on the windowsill .</td>\n",
       "      <td>The cat is sleeping on the windowsill .</td>\n",
       "      <td>The dog is sleeping on the windowsill.</td>\n",
       "      <td>The cat is sleeping on the window-sill.</td>\n",
       "    </tr>\n",
       "    <tr>\n",
       "      <th>1</th>\n",
       "      <td>1</td>\n",
       "      <td>A group of friends is playing soccer in the park.</td>\n",
       "      <td>1</td>\n",
       "      <td>A park of friends is playing soccer in the group</td>\n",
       "      <td>A group of friends is not playing soccer in th...</td>\n",
       "      <td>A group of friends is playing soccer in the pa...</td>\n",
       "      <td>A grouping of friends is playing soccer in the...</td>\n",
       "      <td>A group of friends is playing football in the ...</td>\n",
       "    </tr>\n",
       "    <tr>\n",
       "      <th>2</th>\n",
       "      <td>2</td>\n",
       "      <td>The chef is preparing a delicious meal in the ...</td>\n",
       "      <td>1</td>\n",
       "      <td>The kitchen is preparing a delicious meal in t...</td>\n",
       "      <td>The chef is not preparing a delicious meal in ...</td>\n",
       "      <td>The chef is preparing a delicious meal in the ...</td>\n",
       "      <td>The cook is preparing a delicious meal in the ...</td>\n",
       "      <td>The chef is preparing a delicious breakfast in...</td>\n",
       "    </tr>\n",
       "    <tr>\n",
       "      <th>3</th>\n",
       "      <td>3</td>\n",
       "      <td>A bright rainbow stretches across the sky afte...</td>\n",
       "      <td>1</td>\n",
       "      <td>A bright rain stretches across the sky after t...</td>\n",
       "      <td>A bright rainbow doesn't stretches across the ...</td>\n",
       "      <td>A bright rainbow stretches across the sky afte...</td>\n",
       "      <td>A bright anya stretches across the sky after t...</td>\n",
       "      <td>A bright rainbow stretches across the cloud af...</td>\n",
       "    </tr>\n",
       "    <tr>\n",
       "      <th>4</th>\n",
       "      <td>4</td>\n",
       "      <td>The students are listening attentively during ...</td>\n",
       "      <td>1</td>\n",
       "      <td>The lecture are listening attentively during t...</td>\n",
       "      <td>The students are not listening attentively dur...</td>\n",
       "      <td>The students are listening attentively during ...</td>\n",
       "      <td>The students are listening attentively during ...</td>\n",
       "      <td>The students are listening attentively during ...</td>\n",
       "    </tr>\n",
       "  </tbody>\n",
       "</table>\n",
       "</div>"
      ],
      "text/plain": [
       "   Unnamed: 0                                            premise  label  \\\n",
       "0           0             The cat is sleeping on the windowsill.      1   \n",
       "1           1  A group of friends is playing soccer in the park.      1   \n",
       "2           2  The chef is preparing a delicious meal in the ...      1   \n",
       "3           3  A bright rainbow stretches across the sky afte...      1   \n",
       "4           4  The students are listening attentively during ...      1   \n",
       "\n",
       "                                        swap_sub_obj  \\\n",
       "0              The windowsill is sleeping on the cat   \n",
       "1   A park of friends is playing soccer in the group   \n",
       "2  The kitchen is preparing a delicious meal in t...   \n",
       "3  A bright rain stretches across the sky after t...   \n",
       "4  The lecture are listening attentively during t...   \n",
       "\n",
       "                                            negation  \\\n",
       "0        The cat is not sleeping on the windowsill .   \n",
       "1  A group of friends is not playing soccer in th...   \n",
       "2  The chef is not preparing a delicious meal in ...   \n",
       "3  A bright rainbow doesn't stretches across the ...   \n",
       "4  The students are not listening attentively dur...   \n",
       "\n",
       "                                      numbers_change  \\\n",
       "0            The cat is sleeping on the windowsill .   \n",
       "1  A group of friends is playing soccer in the pa...   \n",
       "2  The chef is preparing a delicious meal in the ...   \n",
       "3  A bright rainbow stretches across the sky afte...   \n",
       "4  The students are listening attentively during ...   \n",
       "\n",
       "                                       change_nouns1  \\\n",
       "0             The dog is sleeping on the windowsill.   \n",
       "1  A grouping of friends is playing soccer in the...   \n",
       "2  The cook is preparing a delicious meal in the ...   \n",
       "3  A bright anya stretches across the sky after t...   \n",
       "4  The students are listening attentively during ...   \n",
       "\n",
       "                                       change_nouns2  \n",
       "0            The cat is sleeping on the window-sill.  \n",
       "1  A group of friends is playing football in the ...  \n",
       "2  The chef is preparing a delicious breakfast in...  \n",
       "3  A bright rainbow stretches across the cloud af...  \n",
       "4  The students are listening attentively during ...  "
      ]
     },
     "execution_count": 16,
     "metadata": {},
     "output_type": "execute_result"
    }
   ],
   "source": [
    "df.head()"
   ]
  },
  {
   "cell_type": "markdown",
   "metadata": {},
   "source": [
    "# verb"
   ]
  },
  {
   "cell_type": "code",
   "execution_count": 17,
   "metadata": {},
   "outputs": [],
   "source": [
    "def get_verb_root(verb):\n",
    "    # Use spaCy to get the root form (lemma) of the verb\n",
    "    doc = nlp(verb)\n",
    "    for token in doc:\n",
    "        if token.pos_ == \"VERB\":\n",
    "            return token.lemma_\n",
    "    \n",
    "    return None"
   ]
  },
  {
   "cell_type": "code",
   "execution_count": 18,
   "metadata": {},
   "outputs": [],
   "source": [
    "def choose_first(modified_sentence, sentence):\n",
    "    ret1 = sentence\n",
    "    for i in modified_sentence:\n",
    "        if i != sentence:\n",
    "            ret1 = i\n",
    "            break\n",
    "    return ret1"
   ]
  },
  {
   "cell_type": "code",
   "execution_count": 19,
   "metadata": {},
   "outputs": [],
   "source": [
    "def find_most_different_verb(word):\n",
    "    word = get_verb_root(word)\n",
    "    if(word == None):\n",
    "        return None\n",
    "    try:\n",
    "        # Get the Word2Vec embedding for the given word\n",
    "        word_embedding = word2vec_model[word+'_VERB']\n",
    "        # print(word_embedding)\n",
    "        # Find the most contextually different verb\n",
    "        most_different_verb = None\n",
    "        max_similarity = float(0)\n",
    "\n",
    "        for verb in word2vec_model.index_to_key:\n",
    "            if verb.endswith(\"_VERB\"):  # Consider only adj\n",
    "                # print(noun)\n",
    "                verb_embedding = word2vec_model[verb]\n",
    "                similarity = word2vec_model.cosine_similarities(word_embedding, [verb_embedding])[0]\n",
    "                # print(similarity)\n",
    "                \n",
    "                if similarity > max_similarity and similarity < 0.65:\n",
    "                    most_different_verb = verb\n",
    "                    max_similarity = similarity\n",
    "\n",
    "        return most_different_verb.split(\"_\")[0]\n",
    "    except KeyError:\n",
    "        return None"
   ]
  },
  {
   "cell_type": "code",
   "execution_count": 20,
   "metadata": {},
   "outputs": [
    {
     "name": "stdout",
     "output_type": "stream",
     "text": [
      "go\n"
     ]
    }
   ],
   "source": [
    "print(find_most_different_verb(\"running\"))"
   ]
  },
  {
   "cell_type": "code",
   "execution_count": 21,
   "metadata": {},
   "outputs": [],
   "source": [
    "def replace_verb_with_most_different(sentence):\n",
    "    \n",
    "    # Process the sentence with spaCy\n",
    "    doc = nlp(sentence)\n",
    "\n",
    "    # Find a verb in the sentence\n",
    "    target_verb = []\n",
    "    for token in doc:\n",
    "        if token.pos_ == \"VERB\":\n",
    "            target_verb.append(token.text)\n",
    "    # print(target_noun)\n",
    "    if target_verb is None:\n",
    "        return sentence\n",
    "\n",
    "    # Find the contextually most different noun\n",
    "    modified_sentence = []\n",
    "    for i in range(len(target_verb)):\n",
    "        most_different_verb = find_most_different_verb(target_verb[i])\n",
    "        # print(most_different_noun)\n",
    "        if most_different_verb is None:\n",
    "            continue\n",
    "        new_sentence = sentence.replace(target_verb[i], most_different_verb)\n",
    "        modified_sentence.append(new_sentence)\n",
    "    # print(sentence)\n",
    "    # print(choose_first(modified_sentence,sentence))\n",
    "    # print(\"--------------------\")\n",
    "    return choose_first(modified_sentence,sentence)"
   ]
  },
  {
   "cell_type": "code",
   "execution_count": 22,
   "metadata": {},
   "outputs": [
    {
     "name": "stdout",
     "output_type": "stream",
     "text": [
      "Original Sentence: A barista is making a cappuccino at the coffee shop.\n",
      "Modified Sentence: A barista is re-balance a cappuccino at the coffee shop.\n"
     ]
    }
   ],
   "source": [
    "# Example sentence\n",
    "original_sentence = \"A barista is making a cappuccino at the coffee shop.\"\n",
    "\n",
    "# Replace the verb with the contextually most different verb\n",
    "modified_sentence = replace_verb_with_most_different(original_sentence)\n",
    "\n",
    "print(\"Original Sentence:\", original_sentence)\n",
    "print(\"Modified Sentence:\", modified_sentence)"
   ]
  },
  {
   "cell_type": "code",
   "execution_count": 23,
   "metadata": {},
   "outputs": [],
   "source": [
    "def test(df):\n",
    "    from tqdm.auto import tqdm\n",
    "    tqdm.pandas()\n",
    "    df['change_verbs'] = df['premise'].progress_apply(replace_verb_with_most_different)\n",
    "    return df"
   ]
  },
  {
   "cell_type": "code",
   "execution_count": 24,
   "metadata": {},
   "outputs": [
    {
     "name": "stderr",
     "output_type": "stream",
     "text": [
      "100%|██████████| 317/317 [00:44<00:00,  7.12it/s]\n"
     ]
    }
   ],
   "source": [
    "df = test(df)"
   ]
  },
  {
   "cell_type": "code",
   "execution_count": 25,
   "metadata": {},
   "outputs": [
    {
     "data": {
      "text/html": [
       "<div>\n",
       "<style scoped>\n",
       "    .dataframe tbody tr th:only-of-type {\n",
       "        vertical-align: middle;\n",
       "    }\n",
       "\n",
       "    .dataframe tbody tr th {\n",
       "        vertical-align: top;\n",
       "    }\n",
       "\n",
       "    .dataframe thead th {\n",
       "        text-align: right;\n",
       "    }\n",
       "</style>\n",
       "<table border=\"1\" class=\"dataframe\">\n",
       "  <thead>\n",
       "    <tr style=\"text-align: right;\">\n",
       "      <th></th>\n",
       "      <th>Unnamed: 0</th>\n",
       "      <th>premise</th>\n",
       "      <th>label</th>\n",
       "      <th>swap_sub_obj</th>\n",
       "      <th>negation</th>\n",
       "      <th>numbers_change</th>\n",
       "      <th>change_nouns1</th>\n",
       "      <th>change_nouns2</th>\n",
       "      <th>change_verbs</th>\n",
       "    </tr>\n",
       "  </thead>\n",
       "  <tbody>\n",
       "    <tr>\n",
       "      <th>0</th>\n",
       "      <td>0</td>\n",
       "      <td>The cat is sleeping on the windowsill.</td>\n",
       "      <td>1</td>\n",
       "      <td>The windowsill is sleeping on the cat</td>\n",
       "      <td>The cat is not sleeping on the windowsill .</td>\n",
       "      <td>The cat is sleeping on the windowsill .</td>\n",
       "      <td>The dog is sleeping on the windowsill.</td>\n",
       "      <td>The cat is sleeping on the window-sill.</td>\n",
       "      <td>The cat is doze on the windowsill.</td>\n",
       "    </tr>\n",
       "    <tr>\n",
       "      <th>1</th>\n",
       "      <td>1</td>\n",
       "      <td>A group of friends is playing soccer in the park.</td>\n",
       "      <td>1</td>\n",
       "      <td>A park of friends is playing soccer in the group</td>\n",
       "      <td>A group of friends is not playing soccer in th...</td>\n",
       "      <td>A group of friends is playing soccer in the pa...</td>\n",
       "      <td>A grouping of friends is playing soccer in the...</td>\n",
       "      <td>A group of friends is playing football in the ...</td>\n",
       "      <td>A group of friends is understudy soccer in the...</td>\n",
       "    </tr>\n",
       "    <tr>\n",
       "      <th>2</th>\n",
       "      <td>2</td>\n",
       "      <td>The chef is preparing a delicious meal in the ...</td>\n",
       "      <td>1</td>\n",
       "      <td>The kitchen is preparing a delicious meal in t...</td>\n",
       "      <td>The chef is not preparing a delicious meal in ...</td>\n",
       "      <td>The chef is preparing a delicious meal in the ...</td>\n",
       "      <td>The cook is preparing a delicious meal in the ...</td>\n",
       "      <td>The chef is preparing a delicious breakfast in...</td>\n",
       "      <td>The chef is de-brief a delicious meal in the k...</td>\n",
       "    </tr>\n",
       "    <tr>\n",
       "      <th>3</th>\n",
       "      <td>3</td>\n",
       "      <td>A bright rainbow stretches across the sky afte...</td>\n",
       "      <td>1</td>\n",
       "      <td>A bright rain stretches across the sky after t...</td>\n",
       "      <td>A bright rainbow doesn't stretches across the ...</td>\n",
       "      <td>A bright rainbow stretches across the sky afte...</td>\n",
       "      <td>A bright anya stretches across the sky after t...</td>\n",
       "      <td>A bright rainbow stretches across the cloud af...</td>\n",
       "      <td>A bright rainbow bicep across the sky after th...</td>\n",
       "    </tr>\n",
       "    <tr>\n",
       "      <th>4</th>\n",
       "      <td>4</td>\n",
       "      <td>The students are listening attentively during ...</td>\n",
       "      <td>1</td>\n",
       "      <td>The lecture are listening attentively during t...</td>\n",
       "      <td>The students are not listening attentively dur...</td>\n",
       "      <td>The students are listening attentively during ...</td>\n",
       "      <td>The students are listening attentively during ...</td>\n",
       "      <td>The students are listening attentively during ...</td>\n",
       "      <td>The students are talk attentively during the l...</td>\n",
       "    </tr>\n",
       "  </tbody>\n",
       "</table>\n",
       "</div>"
      ],
      "text/plain": [
       "   Unnamed: 0                                            premise  label  \\\n",
       "0           0             The cat is sleeping on the windowsill.      1   \n",
       "1           1  A group of friends is playing soccer in the park.      1   \n",
       "2           2  The chef is preparing a delicious meal in the ...      1   \n",
       "3           3  A bright rainbow stretches across the sky afte...      1   \n",
       "4           4  The students are listening attentively during ...      1   \n",
       "\n",
       "                                        swap_sub_obj  \\\n",
       "0              The windowsill is sleeping on the cat   \n",
       "1   A park of friends is playing soccer in the group   \n",
       "2  The kitchen is preparing a delicious meal in t...   \n",
       "3  A bright rain stretches across the sky after t...   \n",
       "4  The lecture are listening attentively during t...   \n",
       "\n",
       "                                            negation  \\\n",
       "0        The cat is not sleeping on the windowsill .   \n",
       "1  A group of friends is not playing soccer in th...   \n",
       "2  The chef is not preparing a delicious meal in ...   \n",
       "3  A bright rainbow doesn't stretches across the ...   \n",
       "4  The students are not listening attentively dur...   \n",
       "\n",
       "                                      numbers_change  \\\n",
       "0            The cat is sleeping on the windowsill .   \n",
       "1  A group of friends is playing soccer in the pa...   \n",
       "2  The chef is preparing a delicious meal in the ...   \n",
       "3  A bright rainbow stretches across the sky afte...   \n",
       "4  The students are listening attentively during ...   \n",
       "\n",
       "                                       change_nouns1  \\\n",
       "0             The dog is sleeping on the windowsill.   \n",
       "1  A grouping of friends is playing soccer in the...   \n",
       "2  The cook is preparing a delicious meal in the ...   \n",
       "3  A bright anya stretches across the sky after t...   \n",
       "4  The students are listening attentively during ...   \n",
       "\n",
       "                                       change_nouns2  \\\n",
       "0            The cat is sleeping on the window-sill.   \n",
       "1  A group of friends is playing football in the ...   \n",
       "2  The chef is preparing a delicious breakfast in...   \n",
       "3  A bright rainbow stretches across the cloud af...   \n",
       "4  The students are listening attentively during ...   \n",
       "\n",
       "                                        change_verbs  \n",
       "0                 The cat is doze on the windowsill.  \n",
       "1  A group of friends is understudy soccer in the...  \n",
       "2  The chef is de-brief a delicious meal in the k...  \n",
       "3  A bright rainbow bicep across the sky after th...  \n",
       "4  The students are talk attentively during the l...  "
      ]
     },
     "execution_count": 25,
     "metadata": {},
     "output_type": "execute_result"
    }
   ],
   "source": [
    "df.head()"
   ]
  },
  {
   "cell_type": "code",
   "execution_count": 26,
   "metadata": {},
   "outputs": [],
   "source": [
    "df.to_csv('/Users/raunakpandey/Documents/programming/projects/augmentation/Contradictions.csv') "
   ]
  }
 ],
 "metadata": {
  "kernelspec": {
   "display_name": "Python 3",
   "language": "python",
   "name": "python3"
  },
  "language_info": {
   "codemirror_mode": {
    "name": "ipython",
    "version": 3
   },
   "file_extension": ".py",
   "mimetype": "text/x-python",
   "name": "python",
   "nbconvert_exporter": "python",
   "pygments_lexer": "ipython3",
   "version": "3.8.17"
  },
  "orig_nbformat": 4
 },
 "nbformat": 4,
 "nbformat_minor": 2
}
